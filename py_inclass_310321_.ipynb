{
  "nbformat": 4,
  "nbformat_minor": 0,
  "metadata": {
    "colab": {
      "name": "py_inclass_310321_.ipynb",
      "provenance": [],
      "collapsed_sections": [],
      "authorship_tag": "ABX9TyOyB1qyTb8eli6Bd1bCvsfT",
      "include_colab_link": true
    },
    "kernelspec": {
      "name": "python3",
      "display_name": "Python 3"
    },
    "language_info": {
      "name": "python"
    }
  },
  "cells": [
    {
      "cell_type": "markdown",
      "metadata": {
        "id": "view-in-github",
        "colab_type": "text"
      },
      "source": [
        "<a href=\"https://colab.research.google.com/github/Re-LeaseD/git-workshop/blob/main/py_inclass_310321_.ipynb\" target=\"_parent\"><img src=\"https://colab.research.google.com/assets/colab-badge.svg\" alt=\"Open In Colab\"/></a>"
      ]
    },
    {
      "cell_type": "code",
      "metadata": {
        "colab": {
          "base_uri": "https://localhost:8080/"
        },
        "id": "mVsqFpWuvwHU",
        "outputId": "f68b094c-2ebc-4fc1-fa89-28000c1ec110"
      },
      "source": [
        "city = [\"los\", \"beirut\", \"tokyo\"]\n",
        "city[0] = True\n",
        "print(city)"
      ],
      "execution_count": 5,
      "outputs": [
        {
          "output_type": "stream",
          "text": [
            "[True, 'beirut', 'tokyo']\n"
          ],
          "name": "stdout"
        }
      ]
    },
    {
      "cell_type": "code",
      "metadata": {
        "colab": {
          "base_uri": "https://localhost:8080/"
        },
        "id": "evqg60YXwNeS",
        "outputId": "09c6f7d1-c5da-47c3-99ea-f8342c7914d6"
      },
      "source": [
        "city[1:] = \"clarus\"  #slicing\n",
        "city"
      ],
      "execution_count": 4,
      "outputs": [
        {
          "output_type": "execute_result",
          "data": {
            "text/plain": [
              "[True, 'c', 'l', 'a', 'r', 'u', 's']"
            ]
          },
          "metadata": {
            "tags": []
          },
          "execution_count": 4
        }
      ]
    },
    {
      "cell_type": "code",
      "metadata": {
        "colab": {
          "base_uri": "https://localhost:8080/"
        },
        "id": "XbfTAhLcwf3l",
        "outputId": "9901ec5a-a38c-4693-9488-398d9257cd45"
      },
      "source": [
        "city  # yukarıda tekar çalıştırınca eski halinde çıktı verdi."
      ],
      "execution_count": 6,
      "outputs": [
        {
          "output_type": "execute_result",
          "data": {
            "text/plain": [
              "[True, 'beirut', 'tokyo']"
            ]
          },
          "metadata": {
            "tags": []
          },
          "execution_count": 6
        }
      ]
    },
    {
      "cell_type": "code",
      "metadata": {
        "colab": {
          "base_uri": "https://localhost:8080/"
        },
        "id": "6Dozhgmcv6t-",
        "outputId": "babfaab7-a9f2-477b-dbae-22f04d20dd76"
      },
      "source": [
        "city[1:] = \"istanbul\", \"seul\"  # tuple oldu artık 2 elemanlı tek başına bir iterable\n",
        "city"
      ],
      "execution_count": 7,
      "outputs": [
        {
          "output_type": "execute_result",
          "data": {
            "text/plain": [
              "[True, 'istanbul', 'seul']"
            ]
          },
          "metadata": {
            "tags": []
          },
          "execution_count": 7
        }
      ]
    },
    {
      "cell_type": "code",
      "metadata": {
        "colab": {
          "base_uri": "https://localhost:8080/",
          "height": 163
        },
        "id": "K_8nxfZRwp6U",
        "outputId": "b9b518c1-6a20-41b9-f9bf-38f1d0aa1786"
      },
      "source": [
        "city[1:] = 22  # burda hata verir elemanlarına ayıramaz"
      ],
      "execution_count": 8,
      "outputs": [
        {
          "output_type": "error",
          "ename": "TypeError",
          "evalue": "ignored",
          "traceback": [
            "\u001b[0;31m---------------------------------------------------------------------------\u001b[0m",
            "\u001b[0;31mTypeError\u001b[0m                                 Traceback (most recent call last)",
            "\u001b[0;32m<ipython-input-8-af06069d040d>\u001b[0m in \u001b[0;36m<module>\u001b[0;34m()\u001b[0m\n\u001b[0;32m----> 1\u001b[0;31m \u001b[0mcity\u001b[0m\u001b[0;34m[\u001b[0m\u001b[0;36m1\u001b[0m\u001b[0;34m:\u001b[0m\u001b[0;34m]\u001b[0m \u001b[0;34m=\u001b[0m \u001b[0;36m22\u001b[0m\u001b[0;34m\u001b[0m\u001b[0;34m\u001b[0m\u001b[0m\n\u001b[0m",
            "\u001b[0;31mTypeError\u001b[0m: can only assign an iterable"
          ]
        }
      ]
    },
    {
      "cell_type": "code",
      "metadata": {
        "colab": {
          "base_uri": "https://localhost:8080/"
        },
        "id": "-o_lM7tHwyFu",
        "outputId": "84e6b782-a95f-4ab7-dede-aacb7e3bfab7"
      },
      "source": [
        "city[1:] = \"22\"\n",
        "city"
      ],
      "execution_count": 9,
      "outputs": [
        {
          "output_type": "execute_result",
          "data": {
            "text/plain": [
              "[True, '2', '2']"
            ]
          },
          "metadata": {
            "tags": []
          },
          "execution_count": 9
        }
      ]
    },
    {
      "cell_type": "code",
      "metadata": {
        "colab": {
          "base_uri": "https://localhost:8080/"
        },
        "id": "gTHC4Hhkw6x1",
        "outputId": "392306fd-93b5-4671-a741-b27153ce2306"
      },
      "source": [
        "city1 = [\"istanbul\", \"yozgat\", \"erzurum\",\"ankara\"]\n",
        "city1"
      ],
      "execution_count": 22,
      "outputs": [
        {
          "output_type": "execute_result",
          "data": {
            "text/plain": [
              "['istanbul', 'yozgat', 'erzurum', 'ankara']"
            ]
          },
          "metadata": {
            "tags": []
          },
          "execution_count": 22
        }
      ]
    },
    {
      "cell_type": "code",
      "metadata": {
        "colab": {
          "base_uri": "https://localhost:8080/"
        },
        "id": "x64HqRAyxFnc",
        "outputId": "ef0f5617-3d2e-4f12-b95e-b96718e7e9c9"
      },
      "source": [
        "city1[0:2] = [\"a\", \"b\"]  # iterable olarak liste kullanımı, tuple liste set vs kullanabilirsin.\n",
        "city1"
      ],
      "execution_count": 13,
      "outputs": [
        {
          "output_type": "execute_result",
          "data": {
            "text/plain": [
              "['a', 'b', 'erzurum', 'ankara']"
            ]
          },
          "metadata": {
            "tags": []
          },
          "execution_count": 13
        }
      ]
    },
    {
      "cell_type": "code",
      "metadata": {
        "colab": {
          "base_uri": "https://localhost:8080/"
        },
        "id": "pB3AJfwuxQPG",
        "outputId": "065bae4e-7d18-4724-9e0a-9a23bb9423a7"
      },
      "source": [
        "city1 # yukarıda tekrar çalıştırınca "
      ],
      "execution_count": 20,
      "outputs": [
        {
          "output_type": "execute_result",
          "data": {
            "text/plain": [
              "['a', 'b', 'c', 'ankara']"
            ]
          },
          "metadata": {
            "tags": []
          },
          "execution_count": 20
        }
      ]
    },
    {
      "cell_type": "code",
      "metadata": {
        "colab": {
          "base_uri": "https://localhost:8080/"
        },
        "id": "dKMBJUL-xgrl",
        "outputId": "b7d035fc-95db-4ff3-b7b7-c5d3423c9cb4"
      },
      "source": [
        "city1[0:2] = \"a\"  # ikinci eleman olmasa da hata vermez olanı ekler.\n",
        "city1"
      ],
      "execution_count": 16,
      "outputs": [
        {
          "output_type": "execute_result",
          "data": {
            "text/plain": [
              "['a', 'erzurum', 'ankara']"
            ]
          },
          "metadata": {
            "tags": []
          },
          "execution_count": 16
        }
      ]
    },
    {
      "cell_type": "code",
      "metadata": {
        "colab": {
          "base_uri": "https://localhost:8080/"
        },
        "id": "kYvtP-n-xsRN",
        "outputId": "e8d712de-6061-4aa3-dbf1-6d6149dbfc75"
      },
      "source": [
        "city1[0:2] = [\"a\", \"b\", \"c\"]  # fazladan liste elemanı var ama sadece 0 ve 1 index leri siler ve hepsini ekler atama yapacak\n",
        "city1"
      ],
      "execution_count": 17,
      "outputs": [
        {
          "output_type": "execute_result",
          "data": {
            "text/plain": [
              "['a', 'b', 'c', 'ankara']"
            ]
          },
          "metadata": {
            "tags": []
          },
          "execution_count": 17
        }
      ]
    },
    {
      "cell_type": "code",
      "metadata": {
        "colab": {
          "base_uri": "https://localhost:8080/"
        },
        "id": "r_rb0q_Zx-Xl",
        "outputId": "2021e1a6-a8bf-486b-e48e-e36330a8f2c3"
      },
      "source": [
        "city1[0:2] = \"abc\" # yukarıda tekrar çalıştırdıktan sonra (22)\n",
        "city1"
      ],
      "execution_count": 23,
      "outputs": [
        {
          "output_type": "execute_result",
          "data": {
            "text/plain": [
              "['a', 'b', 'c', 'erzurum', 'ankara']"
            ]
          },
          "metadata": {
            "tags": []
          },
          "execution_count": 23
        }
      ]
    },
    {
      "cell_type": "code",
      "metadata": {
        "colab": {
          "base_uri": "https://localhost:8080/"
        },
        "id": "9tc2VvtnyPY5",
        "outputId": "cb4a46bc-585d-481f-eaa4-bb2686b04423"
      },
      "source": [
        "# \\\\ çıktı almak için ne yapmalı?\n",
        "print(\"\\\\\\\\\")  # başka?\n",
        "print(\"\\\\\" + \"\\\\\")"
      ],
      "execution_count": 31,
      "outputs": [
        {
          "output_type": "stream",
          "text": [
            "\\\\\n",
            "\\\\\n"
          ],
          "name": "stdout"
        }
      ]
    },
    {
      "cell_type": "code",
      "metadata": {
        "colab": {
          "base_uri": "https://localhost:8080/"
        },
        "id": "MqZk8iufy3dI",
        "outputId": "27fc9972-8067-426d-cd49-69c42f27b6f8"
      },
      "source": [
        "a = 3\n",
        "b = 4\n",
        "print(\"{} + {}'ün toplamı {}'dir.\".format(a, b, a+b))"
      ],
      "execution_count": 30,
      "outputs": [
        {
          "output_type": "stream",
          "text": [
            "3 + 4'ün toplamı 7'dir.\n"
          ],
          "name": "stdout"
        }
      ]
    },
    {
      "cell_type": "code",
      "metadata": {
        "colab": {
          "base_uri": "https://localhost:8080/"
        },
        "id": "hoW-98Eqzty9",
        "outputId": "29e1afff-ac34-4ce8-8fae-d37728db1d3c"
      },
      "source": [
        "text = \"{}, {}, {}\".format(3.1463, 5.3676, 7.324567)\n",
        "print(text)"
      ],
      "execution_count": 33,
      "outputs": [
        {
          "output_type": "stream",
          "text": [
            "3.1463, 5.3676, 7.324567\n"
          ],
          "name": "stdout"
        }
      ]
    },
    {
      "cell_type": "code",
      "metadata": {
        "colab": {
          "base_uri": "https://localhost:8080/",
          "height": 35
        },
        "id": "5GPZXv2v0FU8",
        "outputId": "850db17c-f555-4d45-84e3-bb9d2d287d26"
      },
      "source": [
        "text = \"{:.2f}, {:.3f}, {:.4f}\".format(3.1463, 5.3676, 7.324567)\n",
        "text"
      ],
      "execution_count": 35,
      "outputs": [
        {
          "output_type": "execute_result",
          "data": {
            "application/vnd.google.colaboratory.intrinsic+json": {
              "type": "string"
            },
            "text/plain": [
              "'3.15, 5.368, 7.3246'"
            ]
          },
          "metadata": {
            "tags": []
          },
          "execution_count": 35
        }
      ]
    },
    {
      "cell_type": "code",
      "metadata": {
        "colab": {
          "base_uri": "https://localhost:8080/"
        },
        "id": "TW0F3V_H0OVp",
        "outputId": "9538d7a2-f8d5-4060-d725-98436e75afc7"
      },
      "source": [
        "text = \"{:.2s} - {:.3s} - {:.4s}\".format(\"3.1463\", \"5.3676\", \"7.324567\")\n",
        "print(text)"
      ],
      "execution_count": 38,
      "outputs": [
        {
          "output_type": "stream",
          "text": [
            "3. - 5.3 - 7.32\n"
          ],
          "name": "stdout"
        }
      ]
    },
    {
      "cell_type": "code",
      "metadata": {
        "colab": {
          "base_uri": "https://localhost:8080/",
          "height": 35
        },
        "id": "v7RC9P5r0vG8",
        "outputId": "7a728e6b-ee67-4166-8b91-43685d14ca11"
      },
      "source": [
        "text = \"{:>30}\".format(\"clarusway\")  # sağa yaslar\n",
        "text"
      ],
      "execution_count": 40,
      "outputs": [
        {
          "output_type": "execute_result",
          "data": {
            "application/vnd.google.colaboratory.intrinsic+json": {
              "type": "string"
            },
            "text/plain": [
              "'                     clarusway'"
            ]
          },
          "metadata": {
            "tags": []
          },
          "execution_count": 40
        }
      ]
    },
    {
      "cell_type": "code",
      "metadata": {
        "colab": {
          "base_uri": "https://localhost:8080/",
          "height": 35
        },
        "id": "NRXK9K2o1kBr",
        "outputId": "d9ae51bd-6506-4133-bea6-09969d68d9c2"
      },
      "source": [
        "text = \"{:<30}\".format(\"clarusway\")  # sola yaslar\n",
        "text"
      ],
      "execution_count": 41,
      "outputs": [
        {
          "output_type": "execute_result",
          "data": {
            "application/vnd.google.colaboratory.intrinsic+json": {
              "type": "string"
            },
            "text/plain": [
              "'clarusway                     '"
            ]
          },
          "metadata": {
            "tags": []
          },
          "execution_count": 41
        }
      ]
    },
    {
      "cell_type": "code",
      "metadata": {
        "colab": {
          "base_uri": "https://localhost:8080/",
          "height": 35
        },
        "id": "XVWP59Bn16NA",
        "outputId": "f897a6ef-0488-49d3-a78b-09fd39dcf767"
      },
      "source": [
        "text1 = \"formatlama {:>30} formatlama\".format(\"test\")  # sağa yaslar\n",
        "text1"
      ],
      "execution_count": 42,
      "outputs": [
        {
          "output_type": "execute_result",
          "data": {
            "application/vnd.google.colaboratory.intrinsic+json": {
              "type": "string"
            },
            "text/plain": [
              "'formatlama                           test formatlama'"
            ]
          },
          "metadata": {
            "tags": []
          },
          "execution_count": 42
        }
      ]
    },
    {
      "cell_type": "code",
      "metadata": {
        "colab": {
          "base_uri": "https://localhost:8080/",
          "height": 35
        },
        "id": "KTKXBh5k2X-A",
        "outputId": "90764245-081f-4431-e227-dfd429f0fc83"
      },
      "source": [
        "text1 = \"{:<30} formatlama\".format(\"test\")  # sola yaslar\n",
        "text1"
      ],
      "execution_count": 43,
      "outputs": [
        {
          "output_type": "execute_result",
          "data": {
            "application/vnd.google.colaboratory.intrinsic+json": {
              "type": "string"
            },
            "text/plain": [
              "'test                           formatlama'"
            ]
          },
          "metadata": {
            "tags": []
          },
          "execution_count": 43
        }
      ]
    },
    {
      "cell_type": "code",
      "metadata": {
        "colab": {
          "base_uri": "https://localhost:8080/",
          "height": 35
        },
        "id": "ydsU1nY32qSe",
        "outputId": "b1f9a054-2fc6-4885-9d7c-6037d02442b9"
      },
      "source": [
        "\"{:^20}\".format(\"test\")"
      ],
      "execution_count": 44,
      "outputs": [
        {
          "output_type": "execute_result",
          "data": {
            "application/vnd.google.colaboratory.intrinsic+json": {
              "type": "string"
            },
            "text/plain": [
              "'        test        '"
            ]
          },
          "metadata": {
            "tags": []
          },
          "execution_count": 44
        }
      ]
    },
    {
      "cell_type": "code",
      "metadata": {
        "colab": {
          "base_uri": "https://localhost:8080/",
          "height": 35
        },
        "id": "svvW8vqG2-hR",
        "outputId": "c0d7fa01-d7e6-4d26-fc8a-71df2a97e465"
      },
      "source": [
        "\"formatlama {:^30} formatlama\".format(\"test\")"
      ],
      "execution_count": 45,
      "outputs": [
        {
          "output_type": "execute_result",
          "data": {
            "application/vnd.google.colaboratory.intrinsic+json": {
              "type": "string"
            },
            "text/plain": [
              "'formatlama              test              formatlama'"
            ]
          },
          "metadata": {
            "tags": []
          },
          "execution_count": 45
        }
      ]
    },
    {
      "cell_type": "code",
      "metadata": {
        "colab": {
          "base_uri": "https://localhost:8080/",
          "height": 35
        },
        "id": "gAXxjdmE3RZ-",
        "outputId": "23540aaa-a599-4722-91d1-0671abfa4a9f"
      },
      "source": [
        "\"{:.5}\".format(\"hippopotamus\")"
      ],
      "execution_count": 46,
      "outputs": [
        {
          "output_type": "execute_result",
          "data": {
            "application/vnd.google.colaboratory.intrinsic+json": {
              "type": "string"
            },
            "text/plain": [
              "'hippo'"
            ]
          },
          "metadata": {
            "tags": []
          },
          "execution_count": 46
        }
      ]
    },
    {
      "cell_type": "code",
      "metadata": {
        "colab": {
          "base_uri": "https://localhost:8080/",
          "height": 35
        },
        "id": "ryHr5PiH3c8W",
        "outputId": "7c945c2a-edf5-4f77-94f0-8fca657a0458"
      },
      "source": [
        "\"{:.2}\".format(\"hippopotamus\")"
      ],
      "execution_count": 47,
      "outputs": [
        {
          "output_type": "execute_result",
          "data": {
            "application/vnd.google.colaboratory.intrinsic+json": {
              "type": "string"
            },
            "text/plain": [
              "'hi'"
            ]
          },
          "metadata": {
            "tags": []
          },
          "execution_count": 47
        }
      ]
    },
    {
      "cell_type": "code",
      "metadata": {
        "colab": {
          "base_uri": "https://localhost:8080/",
          "height": 35
        },
        "id": "5sn1A0VH3qO4",
        "outputId": "3068636c-9be8-462f-997e-4a9e3dcb2593"
      },
      "source": [
        "\"{:10.3}\".format(\"hippopotamus\")"
      ],
      "execution_count": 49,
      "outputs": [
        {
          "output_type": "execute_result",
          "data": {
            "application/vnd.google.colaboratory.intrinsic+json": {
              "type": "string"
            },
            "text/plain": [
              "'hip       '"
            ]
          },
          "metadata": {
            "tags": []
          },
          "execution_count": 49
        }
      ]
    },
    {
      "cell_type": "code",
      "metadata": {
        "colab": {
          "base_uri": "https://localhost:8080/",
          "height": 35
        },
        "id": "GSkvAE3k3yhx",
        "outputId": "f0585738-bc09-4275-de7b-5f475729c2bb"
      },
      "source": [
        "\"{:>10.3}\".format(\"hippopotamus\")"
      ],
      "execution_count": 50,
      "outputs": [
        {
          "output_type": "execute_result",
          "data": {
            "application/vnd.google.colaboratory.intrinsic+json": {
              "type": "string"
            },
            "text/plain": [
              "'       hip'"
            ]
          },
          "metadata": {
            "tags": []
          },
          "execution_count": 50
        }
      ]
    },
    {
      "cell_type": "code",
      "metadata": {
        "colab": {
          "base_uri": "https://localhost:8080/",
          "height": 35
        },
        "id": "CwLio4vo35Uo",
        "outputId": "3ea375d2-caf5-4d59-c25a-4f9761a2f5d1"
      },
      "source": [
        "\"{:^10.3}\".format(\"hippopotamus\")"
      ],
      "execution_count": 51,
      "outputs": [
        {
          "output_type": "execute_result",
          "data": {
            "application/vnd.google.colaboratory.intrinsic+json": {
              "type": "string"
            },
            "text/plain": [
              "'   hip    '"
            ]
          },
          "metadata": {
            "tags": []
          },
          "execution_count": 51
        }
      ]
    },
    {
      "cell_type": "code",
      "metadata": {
        "colab": {
          "base_uri": "https://localhost:8080/",
          "height": 35
        },
        "id": "9C-47Ukh3-OP",
        "outputId": "aaeb58ec-063d-491f-b15c-e567d18a729e"
      },
      "source": [
        "\"{:.5}\".format(3.141592653589793)  # 5 sonucu .dan sonra 4 değer verdiğine dikkat et yukarı ile karşılaştır.\n",
        "# sadece 5 karakteri alıyor.5"
      ],
      "execution_count": 52,
      "outputs": [
        {
          "output_type": "execute_result",
          "data": {
            "application/vnd.google.colaboratory.intrinsic+json": {
              "type": "string"
            },
            "text/plain": [
              "'3.1416'"
            ]
          },
          "metadata": {
            "tags": []
          },
          "execution_count": 52
        }
      ]
    },
    {
      "cell_type": "code",
      "metadata": {
        "colab": {
          "base_uri": "https://localhost:8080/",
          "height": 35
        },
        "id": "WJCiLrTZ4Yta",
        "outputId": "9b92519b-41c5-4c9d-b767-ef2c0b150b66"
      },
      "source": [
        "\"{:.5}\".format(\"3.141592653589793\")  # 5 karakteri aldı"
      ],
      "execution_count": 53,
      "outputs": [
        {
          "output_type": "execute_result",
          "data": {
            "application/vnd.google.colaboratory.intrinsic+json": {
              "type": "string"
            },
            "text/plain": [
              "'3.141'"
            ]
          },
          "metadata": {
            "tags": []
          },
          "execution_count": 53
        }
      ]
    },
    {
      "cell_type": "code",
      "metadata": {
        "id": "uDff5kD443Kz"
      },
      "source": [
        ""
      ],
      "execution_count": null,
      "outputs": []
    }
  ]
}